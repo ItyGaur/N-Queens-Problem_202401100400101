{
  "nbformat": 4,
  "nbformat_minor": 0,
  "metadata": {
    "colab": {
      "provenance": []
    },
    "kernelspec": {
      "name": "python3",
      "display_name": "Python 3"
    },
    "language_info": {
      "name": "python"
    }
  },
  "cells": [
    {
      "cell_type": "code",
      "execution_count": 7,
      "metadata": {
        "colab": {
          "base_uri": "https://localhost:8080/"
        },
        "id": "162Sdl3YNljE",
        "outputId": "a00c7a14-4890-4846-c77d-8e11f1ce83b4"
      },
      "outputs": [
        {
          "output_type": "stream",
          "name": "stdout",
          "text": [
            "Enter chessboard size: 5\n",
            "\n",
            "Solution for 5-Queens:\n",
            ". . . Q .\n",
            "Q . . . .\n",
            ". . Q . .\n",
            ". . . . Q\n",
            ". Q . . .\n",
            "\n"
          ]
        }
      ],
      "source": [
        "import random  # For generating random board configurations\n",
        "\n",
        "def random_board(n):\n",
        "    \"\"\"Generate a random board where each queen is placed in a random row.\"\"\"\n",
        "    return [random.randint(0, n-1) for _ in range(n)]\n",
        "\n",
        "def count_conflicts(board):\n",
        "    \"\"\"Count the number of attacking queen pairs (same row or diagonal).\"\"\"\n",
        "    conflicts = 0\n",
        "    n = len(board)\n",
        "    for i in range(n):\n",
        "        for j in range(i+1, n):\n",
        "            if board[i] == board[j] or abs(board[i] - board[j]) == abs(i - j):\n",
        "                conflicts += 1\n",
        "    return conflicts\n",
        "\n",
        "def hill_climbing(n, max_restarts=100):\n",
        "    \"\"\"Solve N-Queens using hill climbing with random restarts.\"\"\"\n",
        "    for _ in range(max_restarts):  # Try up to max_restarts times\n",
        "        board = random_board(n)  # Start with a random board\n",
        "\n",
        "        while count_conflicts(board) > 0:  # Keep improving until conflicts = 0\n",
        "            best_board = board[:]  # Copy current board\n",
        "            best_conflicts = count_conflicts(board)\n",
        "\n",
        "            for col in range(n):  # Try moving each queen\n",
        "                original_row = board[col]  # Save original position\n",
        "                for row in range(n):  # Try placing in a different row\n",
        "                    if row == original_row:\n",
        "                        continue  # Skip if it's the same row\n",
        "\n",
        "                    board[col] = row  # Move queen\n",
        "                    new_conflicts = count_conflicts(board)\n",
        "\n",
        "                    if new_conflicts < best_conflicts:  # If it's better, keep it\n",
        "                        best_board = board[:]\n",
        "                        best_conflicts = new_conflicts\n",
        "\n",
        "                board[col] = original_row  # Reset to original row before next try\n",
        "\n",
        "            if best_conflicts < count_conflicts(board):\n",
        "                board = best_board  # Keep the improved board\n",
        "            else:\n",
        "                break  # No better move found, restart\n",
        "\n",
        "        if count_conflicts(board) == 0:\n",
        "            return board  # Solution found\n",
        "\n",
        "    return None  # No solution found after max_restarts\n",
        "\n",
        "def print_board(board):\n",
        "    \"\"\"Print the board with 'Q' for queens and '.' for empty spaces.\"\"\"\n",
        "    if board is None:\n",
        "        print(\"No solution found.\")\n",
        "        return\n",
        "\n",
        "    n = len(board)\n",
        "    for row in range(n):\n",
        "        print(\" \".join(\"Q\" if board[col] == row else \".\" for col in range(n)))\n",
        "    print()  # Blank line for readability\n",
        "\n",
        "def main():\n",
        "    \"\"\"Ask the user for a board size and solve N-Queens.\"\"\"\n",
        "    n = int(input(\"Enter chessboard size: \"))\n",
        "    solution = hill_climbing(n)\n",
        "\n",
        "    print(f\"\\nSolution for {n}-Queens:\")\n",
        "    print_board(solution)\n",
        "\n",
        "if __name__ == \"__main__\":\n",
        "    main()\n"
      ]
    }
  ]
}